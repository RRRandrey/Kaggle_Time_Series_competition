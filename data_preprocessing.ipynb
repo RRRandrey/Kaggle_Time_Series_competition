{
 "cells": [
  {
   "cell_type": "markdown",
   "id": "70220cb1",
   "metadata": {},
   "source": [
    "# Семинар 0. Вспомнить всё!"
   ]
  },
  {
   "cell_type": "markdown",
   "id": "b767e84f",
   "metadata": {},
   "source": [
    "План семинара:\n",
    "\n",
    "- [ ] Вспоминаем основные понятия из статистики: модели и оценки параметров\n",
    "- [ ] Вспоминаем методы оценок параметров. Основной -- ML.\n",
    "- [ ] Задача линейной регрессии\n",
    "- [ ] Вспоминаем тестирование гипотез"
   ]
  },
"metadata": {
  "kernelspec": {
   "display_name": "Python 3 (ipykernel)",
   "language": "python",
   "name": "python3"
  },
  "language_info": {
   "codemirror_mode": {
    "name": "ipython",
    "version": 3
   },
   "file_extension": ".py",
   "mimetype": "text/x-python",
   "name": "python",
   "nbconvert_exporter": "python",
   "pygments_lexer": "ipython3",
   "version": "3.10.5"
  },
  "vscode": {
   "interpreter": {
    "hash": "a7fdb681302e4286a440ee57e7ebcd36d5044d44bc789f6f71e09c161c36f94e"
   }
  }
 },
 "nbformat": 4,
 "nbformat_minor": 5
}
